{
 "cells": [
  {
   "cell_type": "code",
   "execution_count": null,
   "metadata": {},
   "outputs": [],
   "source": []
  },
  {
   "cell_type": "markdown",
   "metadata": {},
   "source": [
    "# Sistemas numéricos\n",
    "\n",
    "|Sistema|Base|Digitos|\n",
    "|-------|----|-------|\n",
    "|Binario|2|0,1|\n",
    "|Octal|8|0,1,2,3,4,5,6,7|\n",
    "|Decimal|10|0,1,2,3,4,5,6,7,8,9|\n",
    "|Hexadecimal|16|0,1,2,3,4,5,6,7,8,9,A,B,C,D,E,F|\n",
    "\n",
    "Python trabaja por defecto con el sistema decimal como todos los lenguajes, sin embargo si queremos cambiar de sistema numérico empieza el valor con `0b` para binario, `0o` para octal y `0x` para hexadecimal."
   ]
  },
  {
   "cell_type": "code",
   "execution_count": 2,
   "metadata": {},
   "outputs": [
    {
     "name": "stdout",
     "output_type": "stream",
     "text": [
      "a: 10\n",
      "a: 10\n",
      "a: 10\n",
      "a: 10\n"
     ]
    }
   ],
   "source": [
    "# Profundizando en sistemas de numaracion\n",
    "# Decimal\n",
    "a = 10\n",
    "print(f'a: {a}')\n",
    "# Binario\n",
    "a = 0b1010\n",
    "print(f'a: {a}')\n",
    "# Octal\n",
    "a = 0o12\n",
    "print(f'a: {a}')\n",
    "# Hexadecimal\n",
    "a = 0xA\n",
    "print(f'a: {a}')\n",
    "\n"
   ]
  },
  {
   "cell_type": "markdown",
   "metadata": {},
   "source": [
    "# Conversión de base numérica\n",
    "\n",
    "El objeto constructor `int()` puede convertir un número decimal en otros sistemas, agregando un segundo parametro `base=numero`.\n",
    "\n",
    "la conversion contraria de convertir un número entero a string a distintas bases númericas se puede hacer usando las funciones `bin(), octal() y hex()` pero agrega un prefijo `0b para binario, 0o para octal y 0x para hexadecimal` ej: '0b10111' o '0o27' o '0x17'\n",
    "\n",
    "tambien hay otra forma simplificada si se puede decir creando un f-string agregando al numero los caracteres `:b para binario, :o para octal y :x para hexadecimal` ej: '10111' o '27' o '17'"
   ]
  },
  {
   "cell_type": "code",
   "execution_count": 6,
   "metadata": {},
   "outputs": [
    {
     "name": "stdout",
     "output_type": "stream",
     "text": [
      "a: 23\n",
      "a: 23\n",
      "a: 23\n",
      "a: 23\n",
      "a binario: 0b10111 y es de tipo <class 'str'>\n",
      "a octal: 0o27 y es de tipo <class 'str'>\n",
      "a hexadecimal: 0x17 y es de tipo <class 'str'>\n",
      "a binario: 10111 y es de tipo: <class 'str'>\n",
      "a octal: 27 y es de tipo: <class 'str'>\n",
      "a hexadecimal: 17 y es de tipo: <class 'str'>\n"
     ]
    }
   ],
   "source": [
    "# Convirtiendo string a decimal\n",
    "a = int('23', base=10)\n",
    "print(f'a: {a}')\n",
    "a = int('10111', base=2)\n",
    "print(f'a: {a}')\n",
    "a = int('0o27', base=8)\n",
    "print(f'a: {a}')\n",
    "a = int('0x17', base=16)\n",
    "print(f'a: {a}')\n",
    "\n",
    "# Conviertiendo decimal a otros sistemas numericos\n",
    "a = 23\n",
    "binario = bin(a)\n",
    "octal = oct(a)\n",
    "hexadecimal = hex(a)\n",
    "\n",
    "print(f'a binario: {binario} y es de tipo {type(binario)}')\n",
    "print(f'a octal: {octal} y es de tipo {type(octal)}')\n",
    "print(f'a hexadecimal: {hexadecimal} y es de tipo {type(hexadecimal)}')\n",
    "\n",
    "# Conversion rápida\n",
    "\n",
    "binario = f'{a:b}'\n",
    "octal = f'{a:o}'\n",
    "hexadecimal = f'{a:x}'\n",
    "\n",
    "print(f'a binario: {binario} y es de tipo: {type(binario)}')\n",
    "print(f'a octal: {octal} y es de tipo: {type(octal)}')\n",
    "print(f'a hexadecimal: {hexadecimal} y es de tipo: {type(hexadecimal)}')"
   ]
  },
  {
   "cell_type": "markdown",
   "metadata": {},
   "source": [
    "# Profundizando en flotantes\n",
    "\n",
    "## Redondeo de cifras significativas\n",
    "\n",
    "La manera formal de hacerlo es usando la funcion `round(numero, cifras)` ya que el valor flotante aplica el redondeo de forma profunda.\n",
    "\n",
    "Existe otra forma que es cosmetica que nos viene bien para mantener la precisión de los calculos y a su vez para facilitar la lectura al usuario y es agregando el sufijo a la variable *.2f* `f'variable:.2f'` donde 2 es la cantidad de cifras significativas.\n",
    "\n",
    "## Notación exponencial\n",
    "\n",
    "Cuando la cantidad de cifras es muy precisa en un numero decimal ej: 3.141592......3 o cuando un numero entero es astronomicamente grande, ejemplo un número representado en billones o trillones, es necesario ponerlo en cifras que nos permita leerlo mas facilmente, los cientificos usan mucho la notación exponencial, para hacerlo agrega el sufijo *:e*\n",
    "\n",
    "tambien podemos crear numeros con esa notación y asignarlos a una variable ej:\n",
    "\n",
    "```python\n",
    "a = 3e5 # es igual a 300.000\n",
    "a = 3e-5 # es igal a 0.00005\n",
    "```"
   ]
  },
  {
   "cell_type": "code",
   "execution_count": 11,
   "metadata": {},
   "outputs": [
    {
     "name": "stdout",
     "output_type": "stream",
     "text": [
      "a: 3.0\n",
      "a: 3.14\n",
      "a: 3.141593e+00\n",
      "a: 300000.0\n",
      "a: 0.00003\n"
     ]
    }
   ],
   "source": [
    "a = 3.0\n",
    "print(f'a: {a}')\n",
    "# Redondeando cifras significativas en el string\n",
    "a = 3.141592653589793\n",
    "print(f'a: {a:.2f}')\n",
    "# Notacion exponencial para valores positivos o negativos\n",
    "a = 3.141592653589793\n",
    "print(f'a: {a:e}')\n",
    "a = 3e5\n",
    "print(f'a: {a}')\n",
    "a = 3e-5\n",
    "print(f'a: {a:.5f}')"
   ]
  },
  {
   "cell_type": "markdown",
   "metadata": {},
   "source": [
    "## Facilitando la asignacion de variable enteros de muchos digitos.\n",
    "\n",
    "los numeros enteros que superan los miles empieza a ser incómodos de asignar, python ofrece una notacion que facilita la asignacion:\n",
    "\n",
    "```python\n",
    "# 10 millones 300 mil 500\n",
    "a = 10_300_500 # es igual a 10300500\n",
    "```"
   ]
  },
  {
   "cell_type": "code",
   "execution_count": 12,
   "metadata": {},
   "outputs": [
    {
     "name": "stdout",
     "output_type": "stream",
     "text": [
      "a: 10300500\n"
     ]
    }
   ],
   "source": [
    "a = 10_300_500\n",
    "print(f'a: {a}')"
   ]
  }
 ],
 "metadata": {
  "kernelspec": {
   "display_name": "Python 3",
   "language": "python",
   "name": "python3"
  },
  "language_info": {
   "codemirror_mode": {
    "name": "ipython",
    "version": 3
   },
   "file_extension": ".py",
   "mimetype": "text/x-python",
   "name": "python",
   "nbconvert_exporter": "python",
   "pygments_lexer": "ipython3",
   "version": "3.9.2"
  }
 },
 "nbformat": 4,
 "nbformat_minor": 2
}
